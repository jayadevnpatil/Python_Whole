{
 "cells": [
  {
   "cell_type": "markdown",
   "id": "98daedc0",
   "metadata": {},
   "source": [
    "<h1 style=\"text-align:left;color:brown\">\n",
    "    Getting Started With Python 🐍\n",
    "    <span style=\"float:right;font-size:medium\">\n",
    "      [ notebook : 001 ] 🟡🔴\n",
    "    </span>\n",
    "</h1>\n",
    "<span style=\"float:right;font-size:medium\"><tt>Code by : Jayadev Patil</tt></span>"
   ]
  },
  {
   "cell_type": "markdown",
   "id": "a50c4642",
   "metadata": {},
   "source": [
    "### <u><strong>Python Basics</strong></u>\n",
    "This notebook covers <tt><strong>print()</strong></tt>\n",
    "* print signle line\n",
    "* print multiple lines\n",
    "* *syntax* <tt><strong>end = </strong></tt>\n",
    "\n",
    "<strong style=\"text-align:left;color:green\">Note : This code can be copied and reproduced for educational purposes.</strong> \n",
    "\n",
    "-------------------------------------------------------------------------------------------------------------------\n",
    "### 1.1    print single line"
   ]
  },
  {
   "cell_type": "code",
   "execution_count": 1,
   "id": "ae127bc5",
   "metadata": {},
   "outputs": [
    {
     "name": "stdout",
     "output_type": "stream",
     "text": [
      "Hello World!\n"
     ]
    }
   ],
   "source": [
    "print('Hello World!')"
   ]
  },
  {
   "cell_type": "code",
   "execution_count": 2,
   "id": "2f421190",
   "metadata": {},
   "outputs": [
    {
     "name": "stdout",
     "output_type": "stream",
     "text": [
      "Hello World!\n"
     ]
    }
   ],
   "source": [
    "print(\"Hello World!\")"
   ]
  },
  {
   "cell_type": "code",
   "execution_count": 3,
   "id": "5850eb6b",
   "metadata": {},
   "outputs": [
    {
     "ename": "SyntaxError",
     "evalue": "EOL while scanning string literal (3721198893.py, line 2)",
     "output_type": "error",
     "traceback": [
      "\u001b[0;36m  File \u001b[0;32m\"/tmp/ipykernel_27764/3721198893.py\"\u001b[0;36m, line \u001b[0;32m2\u001b[0m\n\u001b[0;31m    print(\"Hello World')\u001b[0m\n\u001b[0m                        ^\u001b[0m\n\u001b[0;31mSyntaxError\u001b[0m\u001b[0;31m:\u001b[0m EOL while scanning string literal\n"
     ]
    }
   ],
   "source": [
    "# Error : opening quote --> \" colsing quote --> '\n",
    "print(\"Hello World')"
   ]
  },
  {
   "cell_type": "markdown",
   "id": "a3a30ff7",
   "metadata": {},
   "source": [
    "### 1.2    print multiple lines"
   ]
  },
  {
   "cell_type": "code",
   "execution_count": 4,
   "id": "68565d52",
   "metadata": {},
   "outputs": [
    {
     "name": "stdout",
     "output_type": "stream",
     "text": [
      "Hello\n",
      "Hubballi\n"
     ]
    }
   ],
   "source": [
    "print('Hello')\n",
    "print('Hubballi')"
   ]
  },
  {
   "cell_type": "code",
   "execution_count": 5,
   "id": "178c1a2b",
   "metadata": {},
   "outputs": [
    {
     "name": "stdout",
     "output_type": "stream",
     "text": [
      "Hello \n",
      " Hubballi\n"
     ]
    }
   ],
   "source": [
    "print('Hello \\n Hubballi')"
   ]
  },
  {
   "cell_type": "code",
   "execution_count": 6,
   "id": "228cd698",
   "metadata": {},
   "outputs": [
    {
     "name": "stdout",
     "output_type": "stream",
     "text": [
      "\n",
      "Hello\n",
      "Hubballi\n"
     ]
    }
   ],
   "source": [
    "# What if a paragraph\n",
    "print('''\n",
    "Hello\n",
    "Hubballi''')"
   ]
  },
  {
   "cell_type": "code",
   "execution_count": 7,
   "id": "9ed84d33",
   "metadata": {},
   "outputs": [
    {
     "name": "stdout",
     "output_type": "stream",
     "text": [
      "\n",
      "Hello\n",
      "Hubballi\n"
     ]
    }
   ],
   "source": [
    "print(\"\"\"\n",
    "Hello\n",
    "Hubballi\"\"\")"
   ]
  },
  {
   "cell_type": "markdown",
   "id": "01022ea1",
   "metadata": {},
   "source": [
    "### 1.3 use of  '<tt><strong>end = </strong></tt>'"
   ]
  },
  {
   "cell_type": "code",
   "execution_count": 8,
   "id": "04b3fb85",
   "metadata": {},
   "outputs": [
    {
     "name": "stdout",
     "output_type": "stream",
     "text": [
      "Hello@World\n"
     ]
    }
   ],
   "source": [
    "print('Hello',end='@')\n",
    "print('World')"
   ]
  }
 ],
 "metadata": {
  "kernelspec": {
   "display_name": "Python 3 (ipykernel)",
   "language": "python",
   "name": "python3"
  },
  "language_info": {
   "codemirror_mode": {
    "name": "ipython",
    "version": 3
   },
   "file_extension": ".py",
   "mimetype": "text/x-python",
   "name": "python",
   "nbconvert_exporter": "python",
   "pygments_lexer": "ipython3",
   "version": "3.7.3"
  }
 },
 "nbformat": 4,
 "nbformat_minor": 5
}
