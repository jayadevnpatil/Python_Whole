{
 "cells": [
  {
   "cell_type": "markdown",
   "id": "99f357f7",
   "metadata": {},
   "source": [
    "<h1 style=\"text-align:left;color:brown\">\n",
    "    Getting Started With Python 🐍\n",
    "    <span style=\"float:right;font-size:medium\">\n",
    "      [ notebook : 006 ] 🟡🔴\n",
    "    </span>\n",
    "</h1>\n",
    "<span style=\"float:right;font-size:medium\"><tt>Code by : Jayadev Patil</tt></span>"
   ]
  },
  {
   "cell_type": "markdown",
   "id": "4bac142b",
   "metadata": {},
   "source": [
    "### <u><strong>Python Basics</strong></u><span style=\"float:right;font-size:medium\"><a href='https://github.com/jayadevnpatil/Python_Whole.git'>github</a></span>\n",
    "This notebook covers <strong>Operators</strong>\n",
    "\n",
    "* Arithmetic Operators\n",
    "* Bitwise Operators\n",
    "* Comparision Operators\n",
    "* Identity Operators\n",
    "* Logical Operators\n",
    "* Membership Operators\n",
    "\n",
    "*Note :* *Fundamental and most important operator is <strong>assignment</strong> or <strong>=</strong>*\n",
    "\n",
    "<strong style=\"text-align:left;color:green\">Note : This code can be copied and reproduced for educational purposes.</strong>\n",
    "\n",
    "------------------------------------------------------------------------------------------------------------------\n",
    "### 6.1 Arithmetic Operators\n",
    "\n",
    "Operator  | Description\n",
    "-------------------|------------------\n",
    "+ | addition\n",
    "- | subtraction\n",
    "* | Multiplication\n",
    "/ | Division\n",
    "// | Floor division\n",
    "% | Mod\n",
    "** | Power"
   ]
  },
  {
   "cell_type": "code",
   "execution_count": 1,
   "id": "b2e10156",
   "metadata": {},
   "outputs": [
    {
     "name": "stdout",
     "output_type": "stream",
     "text": [
      "18\n",
      "12\n",
      "45\n",
      "5.0\n",
      "5\n",
      "0\n",
      "3375\n"
     ]
    }
   ],
   "source": [
    "print(15+3)\n",
    "print(15-3)\n",
    "print(15*3)\n",
    "print(15/3)\n",
    "print(15//3)\n",
    "print(15%3)\n",
    "print(15**3)"
   ]
  },
  {
   "cell_type": "markdown",
   "id": "c00e6326",
   "metadata": {},
   "source": [
    "------------------------------------------------------------------------------------------------------------------\n",
    "### 6.2 Bitwise Operators\n",
    "\n",
    "| Symbol | Task Performed |\n",
    "|----|---|\n",
    "| &  | Logical And |\n",
    "| l  | Logical OR |\n",
    "| ^  | XOR |\n",
    "| ~  | Negate |\n",
    "| >>  | Right shift |\n",
    "| <<  | Left shift |"
   ]
  },
  {
   "cell_type": "code",
   "execution_count": 2,
   "id": "e245aea1",
   "metadata": {},
   "outputs": [
    {
     "name": "stdout",
     "output_type": "stream",
     "text": [
      "0b10101\n",
      "0x15\n",
      "0o25\n"
     ]
    }
   ],
   "source": [
    "x = 21\n",
    "print(bin(x))\n",
    "print(hex(x))\n",
    "print(oct(x))"
   ]
  },
  {
   "cell_type": "code",
   "execution_count": 3,
   "id": "97dd7368",
   "metadata": {},
   "outputs": [
    {
     "name": "stdout",
     "output_type": "stream",
     "text": [
      "0b10\n",
      "0b11\n"
     ]
    }
   ],
   "source": [
    "a = 2 # binary equivalent : 10\n",
    "b = 3 # binary equivalent : 11\n",
    "\n",
    "print(bin(2))\n",
    "print(bin(3))"
   ]
  },
  {
   "cell_type": "code",
   "execution_count": 4,
   "id": "373bf748",
   "metadata": {},
   "outputs": [
    {
     "name": "stdout",
     "output_type": "stream",
     "text": [
      "2\n",
      "3\n",
      "1\n"
     ]
    }
   ],
   "source": [
    "print(a & b)\n",
    "print(a | b)\n",
    "print(a ^ b)"
   ]
  },
  {
   "cell_type": "code",
   "execution_count": 5,
   "id": "771623d0",
   "metadata": {},
   "outputs": [
    {
     "name": "stdout",
     "output_type": "stream",
     "text": [
      "3 0b11\n",
      "6 0b110\n",
      "1 0b1\n"
     ]
    }
   ],
   "source": [
    "x =3\n",
    "\n",
    "print(x, bin(x))\n",
    "print(x<<1, bin(x<<1))\n",
    "print(x>>1, bin(x>>1))"
   ]
  },
  {
   "cell_type": "markdown",
   "id": "0326cb8d",
   "metadata": {},
   "source": [
    "------------------------------------------------------------------------------------------------------------------\n",
    "### 6.3 Comparision Operator\n",
    "\n",
    "Operator  | Description\n",
    "-------------------|------------------\n",
    "==    | Check if the value of two operands is equal\n",
    "!=       | Check if the value of two operands is NOT equal\n",
    ">   | Check if the value of left operand is greater than the value of right operand\n",
    "<      | Check if the value of left operand is less than the value of right operand\n",
    ">=    | Check if the value of left operand is greater than or equal to the value of right operand\n",
    "<=    | Check if the value of left operand is less than or equal to the value of right operand`"
   ]
  },
  {
   "cell_type": "code",
   "execution_count": 6,
   "id": "ad236c48",
   "metadata": {},
   "outputs": [
    {
     "name": "stdout",
     "output_type": "stream",
     "text": [
      "True\n",
      "False\n",
      "False\n",
      "True\n",
      "False\n",
      "True\n",
      "False\n"
     ]
    }
   ],
   "source": [
    "z = 1\n",
    "\n",
    "print(1 == z)\n",
    "print(1 != z)\n",
    "print('1' == z)\n",
    "print(z < 5)\n",
    "print(z > 5)\n",
    "print(z <= 5)\n",
    "print(z >= 5)"
   ]
  },
  {
   "cell_type": "markdown",
   "id": "4c4d5a2e",
   "metadata": {},
   "source": [
    "------------------------------------------------------------------------------------------------------------------\n",
    "### 6.4 Identity Operator\n",
    "\n",
    "Operator  | Description\n",
    "-------------------|------------------\n",
    "is | identity\n",
    "is not | not identity"
   ]
  },
  {
   "cell_type": "code",
   "execution_count": 7,
   "id": "64fe9c6e",
   "metadata": {},
   "outputs": [
    {
     "name": "stdout",
     "output_type": "stream",
     "text": [
      "False\n",
      "True\n"
     ]
    }
   ],
   "source": [
    "a = True\n",
    "b = False\n",
    "\n",
    "print(a is b)\n",
    "print(a is not b)"
   ]
  },
  {
   "cell_type": "markdown",
   "id": "ba0715c7",
   "metadata": {},
   "source": [
    "------------------------------------------------------------------------------------------------------------------\n",
    "### 6.5 Logical Operator\n",
    "\n",
    "Operator  | Description\n",
    "-------------------|------------------\n",
    "and | returns true if both operands are true\n",
    "or | returns true if any of the operand is true\n",
    "not | inverse of the operand"
   ]
  },
  {
   "cell_type": "code",
   "execution_count": 8,
   "id": "b5012c97",
   "metadata": {},
   "outputs": [
    {
     "name": "stdout",
     "output_type": "stream",
     "text": [
      "False\n",
      "True\n",
      "True\n",
      "False\n"
     ]
    }
   ],
   "source": [
    "a = 2\n",
    "b = 3\n",
    "\n",
    "m = 5\n",
    "n = 5\n",
    "\n",
    "print((a == b) and (m == n)) # FALSE and TRUE = FALSE\n",
    "print((a == b) or (m == n))  # FALSE or TRUE = TRUE\n",
    "\n",
    "print(m==n) # TRUE = TRUE\n",
    "print(not(m==n)) # not TRUE = FALSE"
   ]
  },
  {
   "cell_type": "markdown",
   "id": "a2e41172",
   "metadata": {},
   "source": [
    "------------------------------------------------------------------------------------------------------------------\n",
    "### 6.6 Membership Operator\n",
    "\n",
    "Operator  | Description\n",
    "-------------------|------------------\n",
    "in | retruns True if element is present in collection\n",
    "not in | retruns True if element is not present in collection"
   ]
  },
  {
   "cell_type": "code",
   "execution_count": 9,
   "id": "5fe2e35d",
   "metadata": {},
   "outputs": [
    {
     "name": "stdout",
     "output_type": "stream",
     "text": [
      "True\n",
      "False\n"
     ]
    }
   ],
   "source": [
    "a = [1, 2, 3, 4, 5]\n",
    "\n",
    "print(1 in a)\n",
    "print(2 not in a)"
   ]
  }
 ],
 "metadata": {
  "kernelspec": {
   "display_name": "Python 3 (ipykernel)",
   "language": "python",
   "name": "python3"
  },
  "language_info": {
   "codemirror_mode": {
    "name": "ipython",
    "version": 3
   },
   "file_extension": ".py",
   "mimetype": "text/x-python",
   "name": "python",
   "nbconvert_exporter": "python",
   "pygments_lexer": "ipython3",
   "version": "3.7.3"
  }
 },
 "nbformat": 4,
 "nbformat_minor": 5
}
