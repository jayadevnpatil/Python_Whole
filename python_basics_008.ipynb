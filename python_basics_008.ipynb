{
 "cells": [
  {
   "cell_type": "markdown",
   "id": "4ec796cf",
   "metadata": {},
   "source": [
    "<h1 style=\"text-align:left;color:brown\">\n",
    "    Getting Started With Python 🐍\n",
    "    <span style=\"float:right;font-size:medium\">\n",
    "      [ notebook : 008 ] 🟡🔴\n",
    "    </span>\n",
    "</h1>\n",
    "<span style=\"float:right;font-size:medium\"><tt>Code by : Jayadev Patil</tt></span>"
   ]
  },
  {
   "cell_type": "markdown",
   "id": "1cc9685c",
   "metadata": {},
   "source": [
    "### <u><strong>Python Basics</strong></u><span style=\"float:right;font-size:medium\"><a href='https://github.com/jayadevnpatil/Python_Whole.git'>github</a></span>\n",
    "This notebook covers <strong>List Data Strucure</strong>\n",
    "<hr>\n",
    "<strong style=\"text-align:left;color:green\">Note : This code can be copied and reproduced for educational purposes.</strong>\n",
    "<hr>\n",
    "\n",
    "### 8.1 List Basics"
   ]
  },
  {
   "cell_type": "markdown",
   "id": "2e8d3404",
   "metadata": {},
   "source": [
    "List is a sequence of data enclosed in **square brackets**, each element can be accessed using it's index value."
   ]
  },
  {
   "cell_type": "code",
   "execution_count": 1,
   "id": "c74fc174",
   "metadata": {},
   "outputs": [],
   "source": [
    "# Valid declarations\n",
    "l1 = []\n",
    "l2 = list()"
   ]
  },
  {
   "cell_type": "markdown",
   "id": "e0dbbd23",
   "metadata": {},
   "source": [
    "Lists could be homogeneous or heterogeneous"
   ]
  },
  {
   "cell_type": "code",
   "execution_count": 2,
   "id": "664fa43a",
   "metadata": {},
   "outputs": [],
   "source": [
    "# Homogeneous List\n",
    "l1 = [1, 2, 3, 4, 5]\n",
    "l2 = ['a', 'b', 'c', 'd']\n",
    "l3 = ['air', 'earth', 'water']"
   ]
  },
  {
   "cell_type": "code",
   "execution_count": 3,
   "id": "55cb23e7",
   "metadata": {},
   "outputs": [],
   "source": [
    "# Heterogeneous List\n",
    "l4 = [1, 'a', 'earth']\n",
    "l5 = [12, 3.45, True, 'fire', [10, 20, 30]]"
   ]
  },
  {
   "cell_type": "markdown",
   "id": "507b09dd",
   "metadata": {},
   "source": [
    "Lists can be concatenated using '+' operator"
   ]
  },
  {
   "cell_type": "code",
   "execution_count": 4,
   "id": "531bd6cb",
   "metadata": {},
   "outputs": [
    {
     "name": "stdout",
     "output_type": "stream",
     "text": [
      "[1, 2, 3, 4, 5, 6, 7, 8]\n"
     ]
    }
   ],
   "source": [
    "# list concatenation\n",
    "l6 = [1, 2, 3, 4]\n",
    "l7 = [5, 6, 7, 8]\n",
    "print(l6 + l7)"
   ]
  },
  {
   "cell_type": "markdown",
   "id": "06569d83",
   "metadata": {},
   "source": [
    "------------------------------------------------------------------------------------------------------------------\n",
    "#### 8.1.1 <strong><tt>len()</tt></strong> function & membership operators\n",
    "Length of the list is number of elements inside that is "
   ]
  },
  {
   "cell_type": "code",
   "execution_count": 5,
   "id": "53fbcdbc",
   "metadata": {},
   "outputs": [
    {
     "name": "stdout",
     "output_type": "stream",
     "text": [
      "4\n"
     ]
    }
   ],
   "source": [
    "f = ['apple', 'orange','guava','mango']\n",
    "print(len(f))"
   ]
  },
  {
   "cell_type": "markdown",
   "id": "eb6ad9a9",
   "metadata": {},
   "source": [
    "Membership operator checks if element is present in list."
   ]
  },
  {
   "cell_type": "code",
   "execution_count": 6,
   "id": "7882a07c",
   "metadata": {},
   "outputs": [
    {
     "name": "stdout",
     "output_type": "stream",
     "text": [
      "True\n",
      "False\n"
     ]
    }
   ],
   "source": [
    "print('apple' in f)\n",
    "print('cherry' in f)"
   ]
  },
  {
   "cell_type": "markdown",
   "id": "3bc82d0e",
   "metadata": {},
   "source": [
    "------------------------------------------------------------------------------------------------------------------\n",
    "#### 8.1.2 List Indexing"
   ]
  },
  {
   "cell_type": "markdown",
   "id": "553e26bf",
   "metadata": {},
   "source": [
    "A string can be converted into a list by using the **list()** function."
   ]
  },
  {
   "cell_type": "code",
   "execution_count": 7,
   "id": "33f271ed",
   "metadata": {},
   "outputs": [
    {
     "name": "stdout",
     "output_type": "stream",
     "text": [
      "['h', 'e', 'l', 'l', 'o']\n"
     ]
    }
   ],
   "source": [
    "a = 'hello'\n",
    "print(list(a))"
   ]
  },
  {
   "cell_type": "markdown",
   "id": "b6e78e73",
   "metadata": {},
   "source": [
    "In python indexing starts from 0.\n",
    "\n",
    "| | apple | orange | guava | mango |\n",
    "|---|-------|----------|----------|--------|\n",
    "|Forward indexing| 0 | 1 | 2 | 3 |\n",
    "|Reverse indexing| -4 | -3 | -2 | -1 |"
   ]
  },
  {
   "cell_type": "code",
   "execution_count": 8,
   "id": "abb3d6ef",
   "metadata": {},
   "outputs": [
    {
     "name": "stdout",
     "output_type": "stream",
     "text": [
      "mango\n",
      "guava\n",
      "ora\n",
      "['guava', 'mango']\n",
      "['apple', 'orange', 'guava']\n"
     ]
    }
   ],
   "source": [
    "f = ['apple', 'orange','guava','mango']\n",
    "print(f[3])\n",
    "print(f[-2])\n",
    "print(f[1][:3])\n",
    "print(f[2:])\n",
    "print(f[:3])"
   ]
  },
  {
   "cell_type": "markdown",
   "id": "e629b419",
   "metadata": {},
   "source": [
    "------------------------------------------------------------------------------------------------------------------\n",
    "#### 8.1.3  List slicing\n",
    "<tt>[start : end : update]</tt>"
   ]
  },
  {
   "cell_type": "code",
   "execution_count": 9,
   "id": "223bc321",
   "metadata": {},
   "outputs": [
    {
     "name": "stdout",
     "output_type": "stream",
     "text": [
      "[0, 1, 2, 3]\n",
      "[4, 5, 6, 7, 8, 9]\n",
      "[0, 3, 6]\n"
     ]
    }
   ],
   "source": [
    "n = [0,1,2,3,4,5,6,7,8,9]\n",
    "\n",
    "print(n[0:4])\n",
    "print(n[4:])\n",
    "print(n[:9:3])"
   ]
  },
  {
   "cell_type": "markdown",
   "id": "bee7d88e",
   "metadata": {},
   "source": [
    "------------------------------------------------------------------------------------------------------------------\n",
    "#### 8.1.4 <tt>min(), </tt><tt>max()</tt> functions\n",
    "* <tt>min() :</tt> List of elements as\n",
    "  - **integers** it returns minimum value.\n",
    "  - **strings** it returns a string whose first element ASCII value is the lowest\n",
    "   \n",
    "* <tt>max() :</tt> List of elements as\n",
    "  - **integers** it returns maximum value.\n",
    "  - **strings** it returns a string whose first element ASCII value is the highest"
   ]
  },
  {
   "cell_type": "code",
   "execution_count": 10,
   "id": "88065871",
   "metadata": {},
   "outputs": [
    {
     "name": "stdout",
     "output_type": "stream",
     "text": [
      "9\n",
      "0\n",
      "Water\n",
      "Air\n"
     ]
    }
   ],
   "source": [
    "n = [0,1,2,3,4,5,6,7,8,9]\n",
    "s = ['Earth','Air','Fire','Water']\n",
    "\n",
    "print(max(n))\n",
    "print(min(n))\n",
    "\n",
    "print(max(s))\n",
    "print(min(s))"
   ]
  },
  {
   "cell_type": "markdown",
   "id": "0602beaf",
   "metadata": {},
   "source": [
    "* But if you want to find the **max( ) / min( )** string element based on the length, another parameter **'key=len'**\n",
    "* When lengths of 2 element are equal, first occured is printed"
   ]
  },
  {
   "cell_type": "code",
   "execution_count": 11,
   "id": "91edd330",
   "metadata": {},
   "outputs": [
    {
     "name": "stdout",
     "output_type": "stream",
     "text": [
      "Earth\n",
      "Air\n"
     ]
    }
   ],
   "source": [
    "print(max(s, key=len))\n",
    "print(min(s, key=len))"
   ]
  },
  {
   "cell_type": "markdown",
   "id": "28b1440f",
   "metadata": {},
   "source": [
    "------------------------------------------------------------------------------------------------------------------\n",
    "#### 8.1.5  Some List methods\n",
    "\n",
    "| Method | Usage |\n",
    "|----------|-------|\n",
    "|index()| used to find the index value of a particular element |\n",
    "|count()|used to count the number of occurance of particular element |"
   ]
  },
  {
   "cell_type": "code",
   "execution_count": 12,
   "id": "f1c1efa2",
   "metadata": {},
   "outputs": [
    {
     "name": "stdout",
     "output_type": "stream",
     "text": [
      "4\n",
      "2\n"
     ]
    }
   ],
   "source": [
    "l1 = [1, 1, 4, 5, 7]\n",
    "print(l1.index(7))\n",
    "print(l1.count(1))"
   ]
  },
  {
   "cell_type": "markdown",
   "id": "d9bfd7b5",
   "metadata": {},
   "source": [
    "| Method | Usage |\n",
    "|----------|-------|\n",
    "|append()|used to add an element at the end of the list|\n",
    "|extend()|used to add an element at the end of the list similar to concat|"
   ]
  },
  {
   "cell_type": "code",
   "execution_count": 13,
   "id": "6e4e12db",
   "metadata": {},
   "outputs": [
    {
     "name": "stdout",
     "output_type": "stream",
     "text": [
      "[1, 2, 3, 4, 5, [6, 7, 8]]\n",
      "[1, 2, 3, 4, 5, 6, 7, 8]\n"
     ]
    }
   ],
   "source": [
    "l1 = [1, 2, 3, 4, 5]\n",
    "l2 = [1, 2, 3, 4, 5]\n",
    "l3 = [6, 7, 8]\n",
    "\n",
    "l1.append(l3)\n",
    "l2.extend(l3)\n",
    "\n",
    "print(l1)\n",
    "print(l2)"
   ]
  },
  {
   "cell_type": "markdown",
   "id": "181495fb",
   "metadata": {},
   "source": [
    "| Method | Usage |\n",
    "|----------|-------|\n",
    "|insert()|**insert(x,y)** is used to insert a element y at a specified index value x|\n",
    "\n",
    "Note : \n",
    "- append() insert element only at end of list, as seen above.\n",
    "- insert() anywhere in the list\n",
    "- while replacing is done through indexing"
   ]
  },
  {
   "cell_type": "code",
   "execution_count": 14,
   "id": "94bb745d",
   "metadata": {},
   "outputs": [
    {
     "name": "stdout",
     "output_type": "stream",
     "text": [
      "[1, 2, 3, 'P', 4, 5]\n"
     ]
    }
   ],
   "source": [
    "# INSERT\n",
    "l1 = [1, 2, 3, 4, 5]\n",
    "l1.insert(3, 'P')\n",
    "print(l1)"
   ]
  },
  {
   "cell_type": "code",
   "execution_count": 15,
   "id": "00a1c997",
   "metadata": {},
   "outputs": [
    {
     "name": "stdout",
     "output_type": "stream",
     "text": [
      "[1, 2, 3, 100, 5]\n"
     ]
    }
   ],
   "source": [
    "# REPLACE\n",
    "l1 = [1, 2, 3, 4, 5]\n",
    "l1[3] = 100    \n",
    "print(l1)"
   ]
  },
  {
   "cell_type": "markdown",
   "id": "44dbe6a1",
   "metadata": {},
   "source": [
    "| Method | Usage |\n",
    "|----------|-------|\n",
    "|pop()| used to remove element based on it's index value|\n",
    "|del | used to remove element based on it's index value\n",
    "|remove()|remove element by specifying the element itself |\n",
    "|clear() | resets back to an empty list |"
   ]
  },
  {
   "cell_type": "code",
   "execution_count": 16,
   "id": "3fd1c965",
   "metadata": {},
   "outputs": [
    {
     "name": "stdout",
     "output_type": "stream",
     "text": [
      "cat\n",
      "3\n",
      "[1, 2, 4, 5, 'python']\n"
     ]
    }
   ],
   "source": [
    "# POP\n",
    "l1 = [1, 2, 3, 4, 5, 'python', 'cat']\n",
    "print(l1.pop())   # default : pop's an element from the end of list\n",
    "print(l1.pop(2))  # pop's at a particular index\n",
    "\n",
    "print(l1)"
   ]
  },
  {
   "cell_type": "code",
   "execution_count": 17,
   "id": "ae4348d5",
   "metadata": {},
   "outputs": [
    {
     "name": "stdout",
     "output_type": "stream",
     "text": [
      "[1, 2, 3, 4, 5, 'cat']\n"
     ]
    }
   ],
   "source": [
    "# DEL\n",
    "l1 = [1, 2, 3, 4, 5, 'python', 'cat']\n",
    "del l1[5]\n",
    "print(l1)"
   ]
  },
  {
   "cell_type": "code",
   "execution_count": 18,
   "id": "8576d974",
   "metadata": {},
   "outputs": [
    {
     "name": "stdout",
     "output_type": "stream",
     "text": [
      "[1, 2, 3, 4, 5, 'cat']\n"
     ]
    }
   ],
   "source": [
    "# REMOVE\n",
    "l1 = [1, 2, 3, 4, 5, 'python', 'cat']\n",
    "l1.remove('python')\n",
    "print(l1)        "
   ]
  },
  {
   "cell_type": "code",
   "execution_count": 19,
   "id": "c34d4f74",
   "metadata": {},
   "outputs": [
    {
     "name": "stdout",
     "output_type": "stream",
     "text": [
      "[]\n"
     ]
    }
   ],
   "source": [
    "# CLEAR\n",
    "l1 = [1, 2, 3, 4, 5, 'python', 'cat']\n",
    "l1.clear()\n",
    "print(l1)"
   ]
  },
  {
   "cell_type": "markdown",
   "id": "50a548dd",
   "metadata": {},
   "source": [
    "| Method | Usage |\n",
    "|----------|-------|\n",
    "|reverse()| entire elements present in the list can be reversed |\n",
    "|sort()| sorts the array in ascending/ descending order |"
   ]
  },
  {
   "cell_type": "code",
   "execution_count": 20,
   "id": "07dbfc20",
   "metadata": {},
   "outputs": [
    {
     "name": "stdout",
     "output_type": "stream",
     "text": [
      "['cat', 'python', 5, 4, 3, 2, 1]\n"
     ]
    }
   ],
   "source": [
    "l1 = [1, 2, 3, 4, 5, 'python', 'cat']\n",
    "l1.reverse()\n",
    "print(l1)"
   ]
  },
  {
   "cell_type": "code",
   "execution_count": 21,
   "id": "74cd5561",
   "metadata": {},
   "outputs": [
    {
     "name": "stdout",
     "output_type": "stream",
     "text": [
      "[1, 9, 10, 16, 22, 97]\n",
      "[97, 22, 16, 10, 9, 1]\n"
     ]
    }
   ],
   "source": [
    "l1 = [10, 16, 9, 22, 1, 97]\n",
    "l1.sort()\n",
    "print(l1)\n",
    "l1.sort(reverse = True)\n",
    "print(l1)"
   ]
  },
  {
   "cell_type": "code",
   "execution_count": 22,
   "id": "8e604f3c",
   "metadata": {},
   "outputs": [
    {
     "name": "stdout",
     "output_type": "stream",
     "text": [
      "['Air', 'Earth', 'Fire', 'Water']\n",
      "['Water', 'Fire', 'Earth', 'Air']\n"
     ]
    }
   ],
   "source": [
    "s = [ 'Earth', 'Air', 'Water', 'Fire']\n",
    "s.sort()\n",
    "print(s)\n",
    "s.sort(reverse = True)\n",
    "print(s)"
   ]
  },
  {
   "cell_type": "markdown",
   "id": "a6bbc5fa",
   "metadata": {},
   "source": [
    "------------------------------------------------------------------------------------------------------------------\n",
    "### 8.2 Copying a List \n",
    "\n",
    "Consider the below example"
   ]
  },
  {
   "cell_type": "code",
   "execution_count": 23,
   "id": "3f2d6e38",
   "metadata": {},
   "outputs": [
    {
     "name": "stdout",
     "output_type": "stream",
     "text": [
      "['b', 'c', 'd']\n"
     ]
    }
   ],
   "source": [
    "la = ['a', 'b', 'c', 'd']\n",
    "lb = la # assume we copied the list\n",
    "\n",
    "la.remove('a')\n",
    "print(lb)"
   ]
  },
  {
   "cell_type": "markdown",
   "id": "5c6a67c4",
   "metadata": {},
   "source": [
    "Even though the element is removed from **la**, its reflected in **lb**. \n",
    "\n",
    "------------------------------------------------------------------------------------------------------------------\n",
    "### WHY ? 🤔\n",
    "\n",
    "Because **la** and **lb** are pointing to same memory location.Hence you can use 👇"
   ]
  },
  {
   "cell_type": "code",
   "execution_count": 24,
   "id": "105615c4",
   "metadata": {},
   "outputs": [
    {
     "name": "stdout",
     "output_type": "stream",
     "text": [
      "['b', 'c', 'd']\n",
      "['a', 'b', 'c', 'd']\n",
      "['a', 'b', 'c', 'd']\n"
     ]
    }
   ],
   "source": [
    "la = ['a', 'b', 'c', 'd']\n",
    "lb = la[:] # or\n",
    "lc = la.copy()\n",
    "\n",
    "la.remove('a')\n",
    "print(la)\n",
    "print(lb)\n",
    "print(lc)"
   ]
  }
 ],
 "metadata": {
  "kernelspec": {
   "display_name": "Python 3 (ipykernel)",
   "language": "python",
   "name": "python3"
  },
  "language_info": {
   "codemirror_mode": {
    "name": "ipython",
    "version": 3
   },
   "file_extension": ".py",
   "mimetype": "text/x-python",
   "name": "python",
   "nbconvert_exporter": "python",
   "pygments_lexer": "ipython3",
   "version": "3.7.3"
  }
 },
 "nbformat": 4,
 "nbformat_minor": 5
}
