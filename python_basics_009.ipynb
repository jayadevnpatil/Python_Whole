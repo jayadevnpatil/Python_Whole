{
 "cells": [
  {
   "cell_type": "markdown",
   "id": "2c07ecc9",
   "metadata": {},
   "source": [
    "<h1 style=\"text-align:left;color:brown\">\n",
    "    Getting Started With Python 🐍\n",
    "    <span style=\"float:right;font-size:medium\">\n",
    "      [ notebook : 009 ] 🟡🔴\n",
    "    </span>\n",
    "</h1>\n",
    "<span style=\"float:right;font-size:medium\"><tt>Code by : Jayadev Patil</tt></span>"
   ]
  },
  {
   "cell_type": "markdown",
   "id": "04d83a95",
   "metadata": {},
   "source": [
    "### <u><strong>Python Basics</strong></u><span style=\"float:right;font-size:medium\"><a href='https://github.com/jayadevnpatil/Python_Whole.git'>github</a></span>\n",
    "This notebook covers <strong>Tuple Data Strucure</strong>\n",
    "<hr>\n",
    "<strong style=\"text-align:left;color:green\">Note : This code can be copied and reproduced for educational purposes.</strong>\n",
    "<hr>\n",
    "\n",
    "### 9.1 Tuple Basics"
   ]
  },
  {
   "cell_type": "markdown",
   "id": "1ddcfe56",
   "metadata": {},
   "source": [
    "Tuples are similar to lists but only big difference is the elements inside a list can be changed but in tuple it cannot be changed.\n",
    "\n",
    "Therefore the  <tt>tuple()</tt> datastructure is called immutable."
   ]
  },
  {
   "cell_type": "code",
   "execution_count": 1,
   "id": "66736179",
   "metadata": {},
   "outputs": [],
   "source": [
    "# Valid declarations\n",
    "t1 = ()\n",
    "t2 = tuple()"
   ]
  },
  {
   "cell_type": "code",
   "execution_count": 9,
   "id": "5f086bb4",
   "metadata": {},
   "outputs": [
    {
     "name": "stdout",
     "output_type": "stream",
     "text": [
      "<class 'int'>\n",
      "<class 'tuple'>\n"
     ]
    }
   ],
   "source": [
    "# To declare single element tuple\n",
    "t3 = (15)\n",
    "t4 = (15, )\n",
    "print(type(t3))\n",
    "print(type(t4))"
   ]
  },
  {
   "cell_type": "code",
   "execution_count": 3,
   "id": "526cf91d",
   "metadata": {},
   "outputs": [
    {
     "name": "stdout",
     "output_type": "stream",
     "text": [
      "(1, 2, 3)\n",
      "('h', 'e', 'l', 'l', 'o')\n"
     ]
    }
   ],
   "source": [
    "# Create tuples\n",
    "t5 = tuple([1, 2, 3])    # from list\n",
    "t6 = tuple('hello')      # from string\n",
    "\n",
    "print(t5)\n",
    "print(t6)"
   ]
  },
  {
   "cell_type": "markdown",
   "id": "3c39afd6",
   "metadata": {},
   "source": [
    "Tuples could be homogeneous or heterogeneous"
   ]
  },
  {
   "cell_type": "code",
   "execution_count": 4,
   "id": "fcf75060",
   "metadata": {},
   "outputs": [],
   "source": [
    "# Homogeneous Tuple\n",
    "t1 = (1, 2, 3, 4, 5)\n",
    "t2 = ('a', 'b', 'c', 'd')\n",
    "t3 = ('air', 'earth', 'water')"
   ]
  },
  {
   "cell_type": "code",
   "execution_count": 5,
   "id": "00623cf6",
   "metadata": {},
   "outputs": [],
   "source": [
    "# Heterogeneous Tuple\n",
    "t4 = (1, 'a', 'earth')\n",
    "t5 = (12, 3.45, True, 'fire', (10, 20, 30))"
   ]
  },
  {
   "cell_type": "markdown",
   "id": "eec532fb",
   "metadata": {},
   "source": [
    "Tuples can be concatenated using '+' operator"
   ]
  },
  {
   "cell_type": "code",
   "execution_count": 6,
   "id": "a7124cee",
   "metadata": {},
   "outputs": [
    {
     "name": "stdout",
     "output_type": "stream",
     "text": [
      "(1, 2, 3, 4, 5, 6, 7, 8)\n"
     ]
    }
   ],
   "source": [
    "# tuple concatenation\n",
    "t6 = (1, 2, 3, 4)\n",
    "t7 = (5, 6, 7, 8)\n",
    "print(t6 + t7)"
   ]
  },
  {
   "cell_type": "markdown",
   "id": "e6f995d3",
   "metadata": {},
   "source": [
    "------------------------------------------------------------------------------------------------------------------\n",
    "#### 9.1.1 <strong><tt>len()</tt></strong> function & membership operators\n",
    "Length of the tuple is number of elements inside that is "
   ]
  },
  {
   "cell_type": "code",
   "execution_count": 7,
   "id": "2800a496",
   "metadata": {},
   "outputs": [
    {
     "name": "stdout",
     "output_type": "stream",
     "text": [
      "4\n"
     ]
    }
   ],
   "source": [
    "f = ('apple', 'orange','guava','mango')\n",
    "print(len(f))"
   ]
  },
  {
   "cell_type": "markdown",
   "id": "4e3ea8fe",
   "metadata": {},
   "source": [
    "Membership operator checks if element is present in list."
   ]
  },
  {
   "cell_type": "code",
   "execution_count": 8,
   "id": "04185ef6",
   "metadata": {},
   "outputs": [
    {
     "name": "stdout",
     "output_type": "stream",
     "text": [
      "True\n",
      "False\n"
     ]
    }
   ],
   "source": [
    "print('apple' in f)\n",
    "print('cherry' in f)"
   ]
  },
  {
   "cell_type": "markdown",
   "id": "d681f528",
   "metadata": {},
   "source": [
    "------------------------------------------------------------------------------------------------------------------\n",
    "#### 9.1.2 Tuple Indexing\n",
    "In python indexing starts from 0.\n",
    "\n",
    "| | apple | orange | guava | mango |\n",
    "|---|-------|----------|----------|--------|\n",
    "|Forward indexing| 0 | 1 | 2 | 3 |\n",
    "|Reverse indexing| -4 | -3 | -2 | -1 |"
   ]
  },
  {
   "cell_type": "code",
   "execution_count": 12,
   "id": "d092c76e",
   "metadata": {},
   "outputs": [
    {
     "name": "stdout",
     "output_type": "stream",
     "text": [
      "<class 'tuple'>\n",
      "mango\n",
      "guava\n",
      "ora\n",
      "('guava', 'mango')\n",
      "('apple', 'orange', 'guava')\n"
     ]
    }
   ],
   "source": [
    "f = ('apple', 'orange','guava','mango')\n",
    "print(type(f))\n",
    "print(f[3])\n",
    "print(f[-2])\n",
    "print(f[1][:3])\n",
    "print(f[2:])\n",
    "print(f[:3])"
   ]
  },
  {
   "cell_type": "markdown",
   "id": "126c273f",
   "metadata": {},
   "source": [
    "------------------------------------------------------------------------------------------------------------------\n",
    "#### 9.1.3  Tuple slicing\n",
    "<tt>[start : end : update]</tt>"
   ]
  },
  {
   "cell_type": "code",
   "execution_count": 13,
   "id": "1718db5d",
   "metadata": {},
   "outputs": [
    {
     "name": "stdout",
     "output_type": "stream",
     "text": [
      "(0, 1, 2, 3)\n",
      "(4, 5, 6, 7, 8, 9)\n",
      "(0, 3, 6)\n"
     ]
    }
   ],
   "source": [
    "n = (0,1,2,3,4,5,6,7,8,9)\n",
    "\n",
    "print(n[0:4])\n",
    "print(n[4:])\n",
    "print(n[:9:3])"
   ]
  },
  {
   "cell_type": "markdown",
   "id": "b4e122c2",
   "metadata": {},
   "source": [
    "------------------------------------------------------------------------------------------------------------------\n",
    "#### 9.1.4 What if we want to change the value 🤔"
   ]
  },
  {
   "cell_type": "code",
   "execution_count": 14,
   "id": "328787a4",
   "metadata": {},
   "outputs": [
    {
     "ename": "TypeError",
     "evalue": "'tuple' object does not support item assignment",
     "output_type": "error",
     "traceback": [
      "\u001b[0;31m---------------------------------------------------------------------------\u001b[0m",
      "\u001b[0;31mTypeError\u001b[0m                                 Traceback (most recent call last)",
      "\u001b[0;32m/tmp/ipykernel_4365/120787300.py\u001b[0m in \u001b[0;36m<module>\u001b[0;34m\u001b[0m\n\u001b[1;32m      1\u001b[0m \u001b[0mn\u001b[0m \u001b[0;34m=\u001b[0m \u001b[0;34m(\u001b[0m\u001b[0;36m0\u001b[0m\u001b[0;34m,\u001b[0m\u001b[0;36m1\u001b[0m\u001b[0;34m,\u001b[0m\u001b[0;36m2\u001b[0m\u001b[0;34m,\u001b[0m\u001b[0;36m3\u001b[0m\u001b[0;34m,\u001b[0m\u001b[0;36m4\u001b[0m\u001b[0;34m,\u001b[0m\u001b[0;36m5\u001b[0m\u001b[0;34m,\u001b[0m\u001b[0;36m6\u001b[0m\u001b[0;34m,\u001b[0m\u001b[0;36m7\u001b[0m\u001b[0;34m,\u001b[0m\u001b[0;36m8\u001b[0m\u001b[0;34m,\u001b[0m\u001b[0;36m9\u001b[0m\u001b[0;34m)\u001b[0m\u001b[0;34m\u001b[0m\u001b[0;34m\u001b[0m\u001b[0m\n\u001b[1;32m      2\u001b[0m \u001b[0;34m\u001b[0m\u001b[0m\n\u001b[0;32m----> 3\u001b[0;31m \u001b[0mn\u001b[0m\u001b[0;34m[\u001b[0m\u001b[0;36m4\u001b[0m\u001b[0;34m]\u001b[0m \u001b[0;34m=\u001b[0m \u001b[0;36m100\u001b[0m\u001b[0;34m\u001b[0m\u001b[0;34m\u001b[0m\u001b[0m\n\u001b[0m",
      "\u001b[0;31mTypeError\u001b[0m: 'tuple' object does not support item assignment"
     ]
    }
   ],
   "source": [
    "n = (0,1,2,3,4,5,6,7,8,9)\n",
    "\n",
    "n[4] = 100"
   ]
  },
  {
   "cell_type": "markdown",
   "id": "576012ab",
   "metadata": {},
   "source": [
    "If it requires to make any changes to **tuple**, it needs to be converted to **list**, make modification and convert back to **tuple**."
   ]
  },
  {
   "cell_type": "code",
   "execution_count": null,
   "id": "95537027",
   "metadata": {},
   "outputs": [],
   "source": [
    "n = (0,1,2,3,4,5,6,7,8,9)\n",
    "n = list(n)\n",
    "n[4] = 100\n",
    "n = tuple(n)\n",
    "print"
   ]
  }
 ],
 "metadata": {
  "kernelspec": {
   "display_name": "Python 3 (ipykernel)",
   "language": "python",
   "name": "python3"
  },
  "language_info": {
   "codemirror_mode": {
    "name": "ipython",
    "version": 3
   },
   "file_extension": ".py",
   "mimetype": "text/x-python",
   "name": "python",
   "nbconvert_exporter": "python",
   "pygments_lexer": "ipython3",
   "version": "3.7.3"
  }
 },
 "nbformat": 4,
 "nbformat_minor": 5
}
