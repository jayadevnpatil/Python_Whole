{
 "cells": [
  {
   "cell_type": "markdown",
   "id": "37feff6b",
   "metadata": {},
   "source": [
    "<h1 style=\"text-align:left;color:brown\">\n",
    "    Getting Started With Python 🐍\n",
    "    <span style=\"float:right;font-size:medium\">\n",
    "      [ notebook : 004 ] 🟡🔴\n",
    "    </span>\n",
    "</h1>\n",
    "<span style=\"float:right;font-size:medium\">\n",
    "<tt>Code by : Jayadev Patil</tt>     \n",
    "</span>"
   ]
  },
  {
   "cell_type": "markdown",
   "id": "8215e36c",
   "metadata": {},
   "source": [
    "### <u><strong>Python Basics</strong></u>\n",
    "This notebook covers <strong>Python Variables</strong>\n",
    "\n",
    "*Def :* Variables are used for storing data values, python doesn't have commands for declaring variable\n",
    "* different datatypes : String, Int, Float, Bool\n",
    "* print variables within a string\n",
    "* type conversions\n",
    "* global **vs** local\n",
    "* ord() & chr()\n",
    "\n",
    "<strong style=\"text-align:left;color:green\">Note : This code can be copied and reproduced for educational purposes.</strong> \n",
    "\n",
    "-------------------------------------------------------------------------------------------------------------------\n",
    "### 4.1 Variables"
   ]
  },
  {
   "cell_type": "code",
   "execution_count": 9,
   "id": "ce98afd5",
   "metadata": {},
   "outputs": [],
   "source": [
    "name = 'Bablu'\n",
    "age = 15\n",
    "percentile = 62.5\n",
    "passed = True"
   ]
  },
  {
   "cell_type": "markdown",
   "id": "a11ec0cd",
   "metadata": {},
   "source": [
    "#### <strong><tt>type()</tt></strong> of variables"
   ]
  },
  {
   "cell_type": "code",
   "execution_count": 2,
   "id": "66fdefae",
   "metadata": {},
   "outputs": [
    {
     "name": "stdout",
     "output_type": "stream",
     "text": [
      "<class 'str'>\n",
      "<class 'int'>\n",
      "<class 'float'>\n",
      "<class 'bool'>\n"
     ]
    }
   ],
   "source": [
    "print(type(name))\n",
    "print(type(age))\n",
    "print(type(percentile))\n",
    "print(type(passed))"
   ]
  },
  {
   "cell_type": "markdown",
   "id": "4ab141dc",
   "metadata": {},
   "source": [
    "### 4.2 Print variables inside a string\n",
    "\n",
    "The <strong>%</strong> followed by <strong>literals</strong> are used to access the specific data type within a print statement.\n",
    "\n",
    "Char_seq | Datatype\n",
    "-----------|----------\n",
    " %s | string\n",
    " %d | Integer\n",
    " %f | Float"
   ]
  },
  {
   "cell_type": "code",
   "execution_count": 7,
   "id": "6000eb0d",
   "metadata": {},
   "outputs": [
    {
     "name": "stdout",
     "output_type": "stream",
     "text": [
      "Student Details\n",
      "---------------\n",
      "Name : Bablu\n",
      "Age : 15\n",
      "Physics : 76.500000 | Chemistry : 88.000000 | Mathematics : 74.500000\n"
     ]
    }
   ],
   "source": [
    "name = 'Bablu'\n",
    "age = 15\n",
    "s1, s2, s3 = 76.5, 88.0, 74.5\n",
    "\n",
    "print('Student Details')\n",
    "print('---------------')\n",
    "print('Name : %s'% name)\n",
    "print('Age : %d'% age)\n",
    "\n",
    "# for multiple variables use paranthesis\n",
    "print('Physics : %f | Chemistry : %f | Mathematics : %f'% (s1, s2, s3))"
   ]
  },
  {
   "cell_type": "markdown",
   "id": "652bb381",
   "metadata": {},
   "source": [
    "### Some More \n",
    "Char_seq | Datatype\n",
    "-----------|----------\n",
    " %d | Integer\n",
    " %f | Float\n",
    " %o | Octal\n",
    " %x | Hexadecimal\n",
    " %e | exponential"
   ]
  },
  {
   "cell_type": "code",
   "execution_count": 4,
   "id": "af10ba07",
   "metadata": {},
   "outputs": [
    {
     "name": "stdout",
     "output_type": "stream",
     "text": [
      "Int   : 17\n",
      "Float : 17.000000\n",
      "Oct   : 21\n",
      "Hex   : 11\n",
      "Exp   : 1.700000e+01\n"
     ]
    }
   ],
   "source": [
    "n = 17\n",
    "print('Int   : %d'%n)\n",
    "print('Float : %f'%n)\n",
    "print('Oct   : %o'%n)\n",
    "print('Hex   : %x'%n)\n",
    "print('Exp   : %e'%n)"
   ]
  },
  {
   "cell_type": "markdown",
   "id": "7bd8fa5c",
   "metadata": {},
   "source": [
    "### Task\n",
    "\n",
    "*Take the* <strong><tt>input()</tt></strong> from the user and multiply it by <strong>10</strong> to get 80."
   ]
  },
  {
   "cell_type": "code",
   "execution_count": 5,
   "id": "f33c682a",
   "metadata": {},
   "outputs": [
    {
     "name": "stdout",
     "output_type": "stream",
     "text": [
      "8\n",
      "8888888888\n"
     ]
    }
   ],
   "source": [
    "n = input()\n",
    "print(n*10)"
   ]
  },
  {
   "cell_type": "markdown",
   "id": "38e72a83",
   "metadata": {},
   "source": [
    "# 🤔\n",
    "### 4.3  thought output should've been 80 ?\n",
    "\n",
    "Here is the importance of <strong><tt>type conversion.</tt></strong>\n",
    "* The <strong><tt>input()</tt></strong> function reads the input in  <strong>string</strong> format.\n",
    "* It needs to be type converted before multiplying\n",
    "\n",
    "*Note : names of variables can be reused*"
   ]
  },
  {
   "cell_type": "code",
   "execution_count": 6,
   "id": "7f1a1f83",
   "metadata": {},
   "outputs": [
    {
     "name": "stdout",
     "output_type": "stream",
     "text": [
      "8\n",
      "80\n"
     ]
    }
   ],
   "source": [
    "n = input()\n",
    "n = int(n)\n",
    "print(n*10)"
   ]
  },
  {
   "cell_type": "code",
   "execution_count": 8,
   "id": "cdd5af28",
   "metadata": {},
   "outputs": [
    {
     "name": "stdout",
     "output_type": "stream",
     "text": [
      "12\n",
      "22\n"
     ]
    }
   ],
   "source": [
    "print(int('12'))\n",
    "print(int(22.4))"
   ]
  },
  {
   "cell_type": "markdown",
   "id": "cad92219",
   "metadata": {},
   "source": [
    "### 4.4 global vs local \n",
    "\n",
    "* **global** variable has the scope over entire main body, can be accessed anywhere\n",
    "* The scope and def of **local** variable is limited only within the block in which it is declred.\n",
    "\n",
    "Observe below 👇, variable **b = bat** was limited only within **func()**"
   ]
  },
  {
   "cell_type": "code",
   "execution_count": 16,
   "id": "a9dbe791",
   "metadata": {},
   "outputs": [
    {
     "name": "stdout",
     "output_type": "stream",
     "text": [
      "Inside function  :  apple bat\n",
      "Outside function :  apple ball\n"
     ]
    }
   ],
   "source": [
    "a = 'apple'    # scope : global\n",
    "b = 'ball'     # scope : global\n",
    "\n",
    "def func():\n",
    "    b = 'bat'  # scope : local\n",
    "    print('Inside function  : ',a,b)\n",
    "    \n",
    "func()\n",
    "print('Outside function : ',a,b) "
   ]
  },
  {
   "cell_type": "markdown",
   "id": "89fefc52",
   "metadata": {},
   "source": [
    "### 4.5 ord() & chr()\n",
    "* **chr( )** is used to convert ASCII to its alphabet.\n",
    "* **ord( )** is used to convert alphabet to ASCII"
   ]
  },
  {
   "cell_type": "code",
   "execution_count": 17,
   "id": "a8730875",
   "metadata": {},
   "outputs": [
    {
     "name": "stdout",
     "output_type": "stream",
     "text": [
      "j\n",
      "74\n"
     ]
    }
   ],
   "source": [
    "print(chr(106))\n",
    "print(ord('J'))"
   ]
  }
 ],
 "metadata": {
  "kernelspec": {
   "display_name": "Python 3 (ipykernel)",
   "language": "python",
   "name": "python3"
  },
  "language_info": {
   "codemirror_mode": {
    "name": "ipython",
    "version": 3
   },
   "file_extension": ".py",
   "mimetype": "text/x-python",
   "name": "python",
   "nbconvert_exporter": "python",
   "pygments_lexer": "ipython3",
   "version": "3.7.3"
  }
 },
 "nbformat": 4,
 "nbformat_minor": 5
}
