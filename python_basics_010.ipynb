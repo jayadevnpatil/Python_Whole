{
 "cells": [
  {
   "cell_type": "markdown",
   "id": "0a86d3f7",
   "metadata": {},
   "source": [
    "<h1 style=\"text-align:left;color:brown\">\n",
    "    Getting Started With Python 🐍\n",
    "    <span style=\"float:right;font-size:medium\">\n",
    "      [ notebook : 010 ] 🟡🔴\n",
    "    </span>\n",
    "</h1>\n",
    "<span style=\"float:right;font-size:medium\"><tt>Code by : Jayadev Patil</tt></span>"
   ]
  },
  {
   "cell_type": "markdown",
   "id": "268822f1",
   "metadata": {},
   "source": [
    "### <u><strong>Python Basics</strong></u><span style=\"float:right;font-size:medium\"><a href='https://github.com/jayadevnpatil/Python_Whole.git'>github</a></span>\n",
    "This notebook covers <strong>Dictionary Data Structure</strong>\n",
    "<hr>\n",
    "<strong style=\"text-align:left;color:green\">Note : This code can be copied and reproduced for educational purposes.</strong>\n",
    "<hr>\n",
    "\n",
    "### 9.1 Dictionary Basics"
   ]
  },
  {
   "cell_type": "markdown",
   "id": "abc171e4",
   "metadata": {},
   "source": [
    "Dictionaries are map style data structures.The elements of the dictionaries are in the form of key-value pair.\n",
    "\n",
    "<tt>dict = { key1 : value1, key2 : value2, .... }</tt>"
   ]
  },
  {
   "cell_type": "code",
   "execution_count": 1,
   "id": "59ffb269",
   "metadata": {},
   "outputs": [],
   "source": [
    "# Valid declarations\n",
    "d1 = {}\n",
    "d2 = dict()"
   ]
  },
  {
   "cell_type": "code",
   "execution_count": 2,
   "id": "56633e88",
   "metadata": {},
   "outputs": [],
   "source": [
    "# Declaring a dictionary\n",
    "d3 = {'a':'apple', 'b':'ball'}\n",
    "d4 = {2:4, 3:6, 4:8, 5:10}"
   ]
  },
  {
   "cell_type": "code",
   "execution_count": 3,
   "id": "3a10d759",
   "metadata": {},
   "outputs": [],
   "source": [
    "# Copy a dictionary\n",
    "nd = d3.copy()"
   ]
  },
  {
   "cell_type": "markdown",
   "id": "2f690a12",
   "metadata": {},
   "source": [
    "------------------------------------------------------------------------------------------------------------------\n",
    "#### 9.1.1 Accessing the dictionary keys, values and items"
   ]
  },
  {
   "cell_type": "code",
   "execution_count": 4,
   "id": "dba7e04c",
   "metadata": {},
   "outputs": [
    {
     "name": "stdout",
     "output_type": "stream",
     "text": [
      "4\n",
      "dict_keys(['a', 'b', 'c', 'd'])\n",
      "dict_values(['apple', 'ball', 'cat', 'dog'])\n",
      "dict_items([('a', 'apple'), ('b', 'ball'), ('c', 'cat'), ('d', 'dog')])\n"
     ]
    }
   ],
   "source": [
    "d = {'a':'apple','b':'ball','c':'cat','d':'dog'}\n",
    "\n",
    "print(len(d))\n",
    "print(d.keys())\n",
    "print(d.values())\n",
    "print(d.items())"
   ]
  },
  {
   "cell_type": "code",
   "execution_count": 5,
   "id": "e5aefb78",
   "metadata": {},
   "outputs": [
    {
     "name": "stdout",
     "output_type": "stream",
     "text": [
      "apple\n",
      "ball\n"
     ]
    }
   ],
   "source": [
    "# values can also be accessed using keys\n",
    "print(d['a'])\n",
    "print(d['b'])"
   ]
  },
  {
   "cell_type": "markdown",
   "id": "81a71f02",
   "metadata": {},
   "source": [
    "------------------------------------------------------------------------------------------------------------------\n",
    "#### 9.1.2 add/ delete dictionary elements"
   ]
  },
  {
   "cell_type": "code",
   "execution_count": 6,
   "id": "2c7e4171",
   "metadata": {},
   "outputs": [
    {
     "name": "stdout",
     "output_type": "stream",
     "text": [
      "{'a': 'apple', 'b': 'ball', 'c': 'cat', 'd': 'dog', 'e': 'elephant'}\n"
     ]
    }
   ],
   "source": [
    "# new item() could be added\n",
    "d['e'] = 'elephant'\n",
    "print(d)"
   ]
  },
  {
   "cell_type": "code",
   "execution_count": 7,
   "id": "c44ce363",
   "metadata": {},
   "outputs": [
    {
     "name": "stdout",
     "output_type": "stream",
     "text": [
      "{'a': 'apple', 'b': 'ball', 'd': 'dog', 'e': 'elephant'}\n"
     ]
    }
   ],
   "source": [
    "# delete an item()\n",
    "del d['c']\n",
    "print(d)"
   ]
  },
  {
   "cell_type": "markdown",
   "id": "3e44c6a8",
   "metadata": {},
   "source": [
    "**pop( )** function is used to get the remove that particular element"
   ]
  },
  {
   "cell_type": "code",
   "execution_count": 8,
   "id": "30078806",
   "metadata": {},
   "outputs": [
    {
     "name": "stdout",
     "output_type": "stream",
     "text": [
      "elephant\n",
      "{'a': 'apple', 'b': 'ball', 'd': 'dog'}\n"
     ]
    }
   ],
   "source": [
    "x = d.pop('e')\n",
    "print(x)\n",
    "print(d)"
   ]
  },
  {
   "cell_type": "markdown",
   "id": "466bbdde",
   "metadata": {},
   "source": [
    "------------------------------------------------------------------------------------------------------------------\n",
    "<tt>clear()</tt> used to **delete** all the items in dictionary"
   ]
  },
  {
   "cell_type": "code",
   "execution_count": 9,
   "id": "91c84bd2",
   "metadata": {},
   "outputs": [
    {
     "name": "stdout",
     "output_type": "stream",
     "text": [
      "{}\n"
     ]
    }
   ],
   "source": [
    "d.clear()\n",
    "print(d)"
   ]
  }
 ],
 "metadata": {
  "kernelspec": {
   "display_name": "Python 3 (ipykernel)",
   "language": "python",
   "name": "python3"
  },
  "language_info": {
   "codemirror_mode": {
    "name": "ipython",
    "version": 3
   },
   "file_extension": ".py",
   "mimetype": "text/x-python",
   "name": "python",
   "nbconvert_exporter": "python",
   "pygments_lexer": "ipython3",
   "version": "3.7.3"
  }
 },
 "nbformat": 4,
 "nbformat_minor": 5
}
