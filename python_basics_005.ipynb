{
 "cells": [
  {
   "cell_type": "markdown",
   "id": "580f24c1",
   "metadata": {},
   "source": [
    "<h1 style=\"text-align:left;color:brown\">\n",
    "    Getting Started With Python 🐍\n",
    "    <span style=\"float:right;font-size:medium\">\n",
    "      [ notebook : 005 ] 🟡🔴\n",
    "    </span>\n",
    "</h1>\n",
    "<span style=\"float:right;font-size:medium\"><tt>Code by : Jayadev Patil</tt></span>"
   ]
  },
  {
   "cell_type": "markdown",
   "id": "820fb1d0",
   "metadata": {},
   "source": [
    "### <u><strong>Python Basics</strong></u><span style=\"float:right;font-size:medium\"><a href='https://github.com/jayadevnpatil/Python_Whole.git'>github</a></span>\n",
    "This notebook covers <strong>Precision & Field Width</strong>\n",
    "* floating point representation using **% operator** method.\n",
    "* floating point representation using **.format()** method.\n",
    "* floating point representation using **f-string** method.\n",
    "* width & precision (**x.yf** form)\n",
    "\n",
    "Note : Understanding any one method is sufficient, **.format()** is commonly used.\n",
    "<br>\n",
    "<strong style=\"text-align:left;color:green\">Note : This code can be copied and reproduced for educational purposes.</strong>\n",
    "\n",
    "------------------------------------------------------------------------------------------------------------------\n",
    "\n",
    "### 5.1 Using % operator"
   ]
  },
  {
   "cell_type": "code",
   "execution_count": 1,
   "id": "b7b2fb56",
   "metadata": {},
   "outputs": [
    {
     "name": "stdout",
     "output_type": "stream",
     "text": [
      "5.666667\n"
     ]
    }
   ],
   "source": [
    "a = 17/3\n",
    "print('%f'%a)"
   ]
  },
  {
   "cell_type": "markdown",
   "id": "f28e2170",
   "metadata": {},
   "source": [
    "------------------------------------------------------------------------------------------------------------------\n",
    "### 5.2 Using <tt>.format()</tt> method"
   ]
  },
  {
   "cell_type": "code",
   "execution_count": 2,
   "id": "b22d286d",
   "metadata": {},
   "outputs": [
    {
     "name": "stdout",
     "output_type": "stream",
     "text": [
      "5.666666666666667\n"
     ]
    }
   ],
   "source": [
    "print('{}'.format(a))"
   ]
  },
  {
   "cell_type": "markdown",
   "id": "982e287f",
   "metadata": {},
   "source": [
    "------------------------------------------------------------------------------------------------------------------\n",
    "### 5.3 Using f-string method"
   ]
  },
  {
   "cell_type": "code",
   "execution_count": 3,
   "id": "1df16cff",
   "metadata": {},
   "outputs": [
    {
     "name": "stdout",
     "output_type": "stream",
     "text": [
      "5.666667\n"
     ]
    }
   ],
   "source": [
    "print(f'{a:f}')"
   ]
  },
  {
   "cell_type": "markdown",
   "id": "9fc984e3",
   "metadata": {},
   "source": [
    "------------------------------------------------------------------------------------------------------------------\n",
    "### 5.4 Precision and Field Width\n",
    "<strong><tt>x.yf</tt></strong> form.\n",
    "* **x** denotes **<tt>minimum width/ padding</tt>** of the output string.\n",
    "* **y** denote minimum number of character after decimal point (default = 6).\n",
    "* **f** represent floating point value.\n",
    "\n",
    "*Note :* form(width.precision-float)"
   ]
  },
  {
   "cell_type": "code",
   "execution_count": 4,
   "id": "9896528c",
   "metadata": {},
   "outputs": [
    {
     "name": "stdout",
     "output_type": "stream",
     "text": [
      "5.666667\n",
      "5.67\n",
      "   5.66667\n",
      "5.66667   \n",
      "0005.66667\n"
     ]
    }
   ],
   "source": [
    "a = 17/3\n",
    "\n",
    "print('%f'% a)       # default precision is 6\n",
    "print('%.2f'% a)     # precision = 2, field_width = default\n",
    "print('%10.5f'% a)   # precision = 5, field_width = 10 [right aligned]\n",
    "print('%-10.5f'% a)  # precision = 5, field_width = 10 [left  aligned]\n",
    "print('%010.5f'% a)  # precision = 5, field_width = 10 [zero padded]"
   ]
  },
  {
   "cell_type": "code",
   "execution_count": 5,
   "id": "60a70b6d",
   "metadata": {},
   "outputs": [
    {
     "name": "stdout",
     "output_type": "stream",
     "text": [
      "5.666667\n",
      "5.67\n",
      "   5.66667\n",
      "0005.66667\n"
     ]
    }
   ],
   "source": [
    "print('{:f}'.format(a))       \n",
    "print('{:.2f}'.format(a))     \n",
    "print('{:10.5f}'.format(a))     \n",
    "print('{:010.5f}'.format(a))"
   ]
  },
  {
   "cell_type": "code",
   "execution_count": 6,
   "id": "4177fb81",
   "metadata": {},
   "outputs": [
    {
     "name": "stdout",
     "output_type": "stream",
     "text": [
      "5.666667\n",
      "5.67\n",
      "   5.66667\n",
      "0005.66667\n"
     ]
    }
   ],
   "source": [
    "print(f'{a:f}')       \n",
    "print(f'{a:.2f}')     \n",
    "print(f'{a:10.5f}')   \n",
    "print(f'{a:010.5f}')"
   ]
  }
 ],
 "metadata": {
  "kernelspec": {
   "display_name": "Python 3 (ipykernel)",
   "language": "python",
   "name": "python3"
  },
  "language_info": {
   "codemirror_mode": {
    "name": "ipython",
    "version": 3
   },
   "file_extension": ".py",
   "mimetype": "text/x-python",
   "name": "python",
   "nbconvert_exporter": "python",
   "pygments_lexer": "ipython3",
   "version": "3.7.3"
  }
 },
 "nbformat": 4,
 "nbformat_minor": 5
}
