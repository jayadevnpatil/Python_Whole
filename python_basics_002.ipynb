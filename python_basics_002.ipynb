{
 "cells": [
  {
   "cell_type": "markdown",
   "id": "0525d11b",
   "metadata": {},
   "source": [
    "<h1 style=\"text-align:left;color:brown\">\n",
    "    Getting Started With Python 🐍\n",
    "    <span style=\"float:right;font-size:medium\">\n",
    "      [ notebook : 002 ] 🟡🔴\n",
    "    </span>\n",
    "</h1>\n",
    "<span style=\"float:right;font-size:medium\">\n",
    "<tt>Code by : Jayadev Patil</tt>     \n",
    "</span>"
   ]
  },
  {
   "cell_type": "markdown",
   "id": "ca009f68",
   "metadata": {},
   "source": [
    "### <u><strong>Python Basics</strong></u>\n",
    "This notebook covers <strong>comments</strong>\n",
    "* single line comments\n",
    "* multi line comments\n",
    "\n",
    "<strong style=\"text-align:left;color:green\">Note : This code can be copied and reproduced for educational purposes.</strong> \n",
    "\n",
    "-------------------------------------------------------------------------------------------------------------------\n",
    "\n",
    "### 2.1 Single line Comment"
   ]
  },
  {
   "cell_type": "code",
   "execution_count": 1,
   "id": "8acc8dc1",
   "metadata": {},
   "outputs": [
    {
     "name": "stdout",
     "output_type": "stream",
     "text": [
      "Hey\n"
     ]
    }
   ],
   "source": [
    "# single line comment\n",
    "print('Hey')"
   ]
  },
  {
   "cell_type": "markdown",
   "id": "e4a7298d",
   "metadata": {},
   "source": [
    "### 2.2 Multi line comments"
   ]
  },
  {
   "cell_type": "code",
   "execution_count": 2,
   "id": "aaa86d5e",
   "metadata": {},
   "outputs": [
    {
     "name": "stdout",
     "output_type": "stream",
     "text": [
      "Enter your name :Jayadev\n",
      "Hello @ Jayadev\n"
     ]
    }
   ],
   "source": [
    "# Accept \n",
    "# input from \n",
    "# user\n",
    "\n",
    "name = input('Enter your name :')\n",
    "print('Hello @', name)"
   ]
  },
  {
   "cell_type": "code",
   "execution_count": 3,
   "id": "059e5d83",
   "metadata": {},
   "outputs": [
    {
     "name": "stdout",
     "output_type": "stream",
     "text": [
      "hello, how are you?\n"
     ]
    }
   ],
   "source": [
    "'''\n",
    "Below is\n",
    "the syntax\n",
    "for string concatanation \n",
    "'''\n",
    "\n",
    "str1 = 'hello'\n",
    "str2 = ','\n",
    "str3 = ' how are you?'\n",
    "print(str1 + str2 + str3)"
   ]
  }
 ],
 "metadata": {
  "kernelspec": {
   "display_name": "Python 3 (ipykernel)",
   "language": "python",
   "name": "python3"
  },
  "language_info": {
   "codemirror_mode": {
    "name": "ipython",
    "version": 3
   },
   "file_extension": ".py",
   "mimetype": "text/x-python",
   "name": "python",
   "nbconvert_exporter": "python",
   "pygments_lexer": "ipython3",
   "version": "3.7.3"
  }
 },
 "nbformat": 4,
 "nbformat_minor": 5
}
