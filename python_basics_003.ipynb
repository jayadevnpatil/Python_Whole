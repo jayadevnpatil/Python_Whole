{
 "cells": [
  {
   "cell_type": "markdown",
   "id": "62476efe",
   "metadata": {},
   "source": [
    "<h1 style=\"text-align:left;color:brown\">\n",
    "    Getting Started With Python 🐍\n",
    "    <span style=\"float:right;font-size:medium\">\n",
    "      [ notebook : 003 ] 🟡🔴\n",
    "    </span>\n",
    "</h1>\n",
    "<span style=\"float:right;font-size:medium\"><tt>Code by : Jayadev Patil</tt></span>"
   ]
  },
  {
   "cell_type": "markdown",
   "id": "3b10fe75",
   "metadata": {},
   "source": [
    "### <u><strong>Python Basics</strong></u><span style=\"float:right;font-size:medium\"><a href='https://github.com/jayadevnpatil/Python_Whole.git'>github</a></span>\n",
    "This notebook covers <strong>Escape sequences</strong>\n",
    "* Escape Sequences\n",
    "\n",
    "<strong style=\"text-align:left;color:green\">Note : This code can be copied and reproduced for educational purposes.</strong> \n",
    "\n",
    "-------------------------------------------------------------------------------------------------------------------\n",
    "### Task\n",
    "*Print the statement* **Python's world**"
   ]
  },
  {
   "cell_type": "code",
   "execution_count": 1,
   "id": "afb99f11",
   "metadata": {},
   "outputs": [
    {
     "ename": "SyntaxError",
     "evalue": "invalid syntax (2494634872.py, line 2)",
     "output_type": "error",
     "traceback": [
      "\u001b[0;36m  File \u001b[0;32m\"/tmp/ipykernel_27830/2494634872.py\"\u001b[0;36m, line \u001b[0;32m2\u001b[0m\n\u001b[0;31m    print('Python's World')\u001b[0m\n\u001b[0m                  ^\u001b[0m\n\u001b[0;31mSyntaxError\u001b[0m\u001b[0;31m:\u001b[0m invalid syntax\n"
     ]
    }
   ],
   "source": [
    "# Error !!\n",
    "print('Python's World')"
   ]
  },
  {
   "cell_type": "code",
   "execution_count": 2,
   "id": "dc7f6003",
   "metadata": {},
   "outputs": [
    {
     "name": "stdout",
     "output_type": "stream",
     "text": [
      "Python's World\n"
     ]
    }
   ],
   "source": [
    "# Solution\n",
    "print(\"Python's World\")"
   ]
  },
  {
   "cell_type": "markdown",
   "id": "2f7127e0",
   "metadata": {},
   "source": [
    "------------------------------------------------------------------------------------------------------------------\n",
    "### 3.1 But\n",
    "\n",
    "It could be solved using <strong>Escape sequences.</strong><br>\n",
    "<tt>Escape Sequences : The sequence of character which has indirect meaning</tt><br>\n",
    "\n",
    "Code  | Result\n",
    "-------------------|------------------\n",
    "\\\\'      | Single Quote\n",
    "\\\\\"      | Double Quote\n",
    "\\\\\\\\      | Backslash\n",
    "\\\\n      | Newline\n",
    "\\\\t      | Tab\n",
    "\\\\b      | Backspace"
   ]
  },
  {
   "cell_type": "code",
   "execution_count": 3,
   "id": "a7cbdb1d",
   "metadata": {},
   "outputs": [
    {
     "name": "stdout",
     "output_type": "stream",
     "text": [
      "Python's World\n"
     ]
    }
   ],
   "source": [
    "print('Python\\'s World')"
   ]
  },
  {
   "cell_type": "code",
   "execution_count": 4,
   "id": "41e071a1",
   "metadata": {},
   "outputs": [
    {
     "name": "stdout",
     "output_type": "stream",
     "text": [
      "Python\" World\n"
     ]
    }
   ],
   "source": [
    "print('Python\\\" World')"
   ]
  },
  {
   "cell_type": "code",
   "execution_count": 5,
   "id": "487d9846",
   "metadata": {},
   "outputs": [
    {
     "name": "stdout",
     "output_type": "stream",
     "text": [
      "Python\\ World\n"
     ]
    }
   ],
   "source": [
    "print('Python\\\\ World')"
   ]
  },
  {
   "cell_type": "code",
   "execution_count": 6,
   "id": "dad5172b",
   "metadata": {},
   "outputs": [
    {
     "name": "stdout",
     "output_type": "stream",
     "text": [
      "Python\n",
      " World\n"
     ]
    }
   ],
   "source": [
    "print('Python\\n World')"
   ]
  },
  {
   "cell_type": "code",
   "execution_count": 7,
   "id": "4b35a0ba",
   "metadata": {},
   "outputs": [
    {
     "name": "stdout",
     "output_type": "stream",
     "text": [
      "Python\t World\n"
     ]
    }
   ],
   "source": [
    "print('Python\\t World')"
   ]
  },
  {
   "cell_type": "code",
   "execution_count": 8,
   "id": "747d8d94",
   "metadata": {},
   "outputs": [
    {
     "name": "stdout",
     "output_type": "stream",
     "text": [
      "Python\bWorld\n"
     ]
    }
   ],
   "source": [
    "print('Python\\bWorld')"
   ]
  }
 ],
 "metadata": {
  "kernelspec": {
   "display_name": "Python 3 (ipykernel)",
   "language": "python",
   "name": "python3"
  },
  "language_info": {
   "codemirror_mode": {
    "name": "ipython",
    "version": 3
   },
   "file_extension": ".py",
   "mimetype": "text/x-python",
   "name": "python",
   "nbconvert_exporter": "python",
   "pygments_lexer": "ipython3",
   "version": "3.7.3"
  }
 },
 "nbformat": 4,
 "nbformat_minor": 5
}
